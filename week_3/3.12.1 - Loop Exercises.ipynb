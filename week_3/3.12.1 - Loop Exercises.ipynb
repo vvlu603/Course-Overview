{
 "cells": [
  {
   "cell_type": "markdown",
   "metadata": {},
   "source": [
    "1. Write a script that prompts the user for his or her name. Using a loop that counts downward, print the name with the letters reversed. You may use `s.lower()` and `s.upper()` to change a string `s` to lowercase and uppercase letters.\n",
    "```\n",
    "Enter your name: Paul \n",
    "Luap\n",
    "```\n",
    "If the name is the same forward and backwards, print \"Palindrome!\" on the next line.\n",
    "```\n",
    "Enter your name: Ana \n",
    "Ana \n",
    "Palindrome!\n",
    "```"
   ]
  },
  {
   "cell_type": "code",
   "execution_count": 13,
   "metadata": {},
   "outputs": [
    {
     "name": "stdout",
     "output_type": "stream",
     "text": [
      "Enter your name: Ana\n",
      "Palindrome!\n"
     ]
    }
   ],
   "source": [
    "name = input(\"Enter your name: \")\n",
    "lower_name = name.lower()\n",
    "if lower_name[::-1]==lower_name: \n",
    "    print('Palindrome!')\n",
    "else: \n",
    "    for i in range(len(lower_name)-1,-1,-1): \n",
    "        print(lower_name[i])"
   ]
  },
  {
   "cell_type": "markdown",
   "metadata": {},
   "source": [
    "2. Write a script that prompts the user for an integer tree size, then displays a number tree as shown below:\n",
    "\n",
    "Enter a size: 5 \n",
    "```\n",
    "    1\n",
    "   121\n",
    "  12321\n",
    " 1234321 \n",
    "123454321\n",
    "```"
   ]
  },
  {
   "cell_type": "code",
   "execution_count": 15,
   "metadata": {},
   "outputs": [],
   "source": [
    "import numpy as np"
   ]
  },
  {
   "cell_type": "code",
   "execution_count": 54,
   "metadata": {},
   "outputs": [
    {
     "name": "stdout",
     "output_type": "stream",
     "text": [
      "Enter a size: 5\n",
      "1\n",
      "1 2 1\n",
      "1 2 3 2 1\n",
      "1 2 3 4 3 2 1\n",
      "1 2 3 4 5 4 3 2 1\n"
     ]
    }
   ],
   "source": [
    "n = int(input(\"Enter a size: \"))\n",
    "#x = [1,2,3,4]\n",
    "# print(*x) will return 1 2 3 4 (it prints each value without you looping )\n",
    "for i in range(1, n + 1):\n",
    "    print(*list(range(1, i + 1)) + list(range(i - 1, 0, -1)), sep = None)\n",
    "#n = int(input(\"Enter a size: \"))\n",
    "#for i in range(2,n+2): \n",
    "#    x = list(np.arange(1,i))\n",
    "#    if len(x)==1: \n",
    "#        print(x)\n",
    "#    else: \n",
    "#        end = x[len(x)-2::-1]\n",
    "#        print(x+end)"
   ]
  },
  {
   "cell_type": "markdown",
   "metadata": {},
   "source": [
    "3. The Fibonacci numbers begin with 1, 1.  After the first two numbers, each number is the sum of the previous two. 1 + 1 = 2, so 2 is the third number. Then 1 + 2 = 3, so 3 is the next one, and so on. Write a script that prompts the user for a number, then prints all the Fibonacci numbers that are less than or equal to the input, in order.\n",
    "\n",
    "```\n",
    "Enter a number: 15\n",
    "1 1 2 3 5 8 13\n",
    "```"
   ]
  },
  {
   "cell_type": "code",
   "execution_count": 75,
   "metadata": {},
   "outputs": [
    {
     "name": "stdout",
     "output_type": "stream",
     "text": [
      "Enter a number: 15\n",
      "1 1 2 3 5 8 13\n"
     ]
    }
   ],
   "source": [
    "n = int(input(\"Enter a number: \"))\n",
    "i=1\n",
    "output=[1]\n",
    "while i<n: \n",
    "    if len(output)<2: \n",
    "        output=output+[i]\n",
    "        #print(output)\n",
    "        i+=1\n",
    "    else: \n",
    "        output = output + [i] \n",
    "        #print(output)\n",
    "        i=output[len(output)-1]+output[len(output)-2]\n",
    "print(*output)\n",
    "        "
   ]
  },
  {
   "cell_type": "markdown",
   "metadata": {},
   "source": [
    "Pascal's triangle is a triangle of numbers that is computed as follows.  The first row contains a 1.  Each row after that begins and ends with a 1, and every other number is the sum of the two numbers above it.  The first six rows of Pascal's triangle are shown below.\n",
    "```\n",
    "      1\n",
    "     1 1\n",
    "    1 2 1\n",
    "  1  3 3  1\n",
    " 1 4  6  4 1\n",
    "1 5 10 10 5 1\n",
    "```\n",
    "Write a script to compute the *n*th row of Pascal's triangle."
   ]
  },
  {
   "cell_type": "code",
   "execution_count": 5,
   "metadata": {},
   "outputs": [
    {
     "name": "stdout",
     "output_type": "stream",
     "text": [
      "Enter a number: 6\n",
      "help_list original\n",
      "[0, 1, 2]\n",
      "1\n",
      "[1, 1, 2]\n",
      "[1, 1, 1]\n",
      "[1, 2, 1]\n",
      "help_list original\n",
      "[0, 1, 2, 3]\n",
      "1\n",
      "[1, 1, 2, 3]\n",
      "[1, 1, 2, 1]\n",
      "[1, 3, 2, 1]\n",
      "2\n",
      "[1, 3, 2, 1]\n",
      "[1, 3, 2, 1]\n",
      "[1, 3, 3, 1]\n",
      "help_list original\n",
      "[0, 1, 2, 3, 4]\n",
      "1\n",
      "[1, 1, 2, 3, 4]\n",
      "[1, 1, 2, 3, 1]\n",
      "[1, 4, 2, 3, 1]\n",
      "2\n",
      "[1, 4, 2, 3, 1]\n",
      "[1, 4, 2, 3, 1]\n",
      "[1, 4, 6, 3, 1]\n",
      "3\n",
      "[1, 4, 6, 3, 1]\n",
      "[1, 4, 6, 3, 1]\n",
      "[1, 4, 6, 4, 1]\n",
      "help_list original\n",
      "[0, 1, 2, 3, 4, 5]\n",
      "1\n",
      "[1, 1, 2, 3, 4, 5]\n",
      "[1, 1, 2, 3, 4, 1]\n",
      "[1, 5, 2, 3, 4, 1]\n",
      "2\n",
      "[1, 5, 2, 3, 4, 1]\n",
      "[1, 5, 2, 3, 4, 1]\n",
      "[1, 5, 10, 3, 4, 1]\n",
      "3\n",
      "[1, 5, 10, 3, 4, 1]\n",
      "[1, 5, 10, 3, 4, 1]\n",
      "[1, 5, 10, 10, 4, 1]\n",
      "4\n",
      "[1, 5, 10, 10, 4, 1]\n",
      "[1, 5, 10, 10, 4, 1]\n",
      "[1, 5, 10, 10, 5, 1]\n",
      "[[1], [1, 1], [1, 2, 1], [1, 3, 3, 1], [1, 4, 6, 4, 1], [1, 5, 10, 10, 5, 1]]\n"
     ]
    }
   ],
   "source": [
    "n = int(input(\"Enter a number: \")) #depth of pascal triangle\n",
    "#https://stackoverflow.com/questions/44101156/programming-a-basic-pascal-triangle-in-python\n",
    "\n",
    "pascal = [] #collect into \n",
    "\n",
    "for x in range(n): #0,1,2....to n-1\n",
    "\n",
    "    if x == 0:\n",
    "        help_list = [1]# at level = 0, you only have 1        \n",
    "        pascal.append(help_list)\n",
    "        continue\n",
    "    if x==1:\n",
    "        help_list = [1,1]  # at level = 1, you only have [1,1]     \n",
    "        pascal.append(help_list)\n",
    "        continue\n",
    "\n",
    "    help_list = [l for l in range(x+1)] #this will just initialize list so you can add to it\n",
    "    print('help_list original')\n",
    "    print(help_list)\n",
    "    for y in range(1,x):#the first x will be 2\n",
    "        print(y)\n",
    "        help_list[0] = 1 #first item becomes 1\n",
    "        print(help_list) \n",
    "        help_list[x] = 1 #last item becomes 1\n",
    "        print(help_list)\n",
    "        help_list[y] = pascal[x-1][y] + pascal[x-1][y-1]   \n",
    "        print(help_list)\n",
    "\n",
    "    pascal.append(help_list)\n",
    "\n",
    "print(pascal)"
   ]
  },
  {
   "cell_type": "code",
   "execution_count": null,
   "metadata": {},
   "outputs": [],
   "source": []
  }
 ],
 "metadata": {
  "kernelspec": {
   "display_name": "Python 3",
   "language": "python",
   "name": "python3"
  },
  "language_info": {
   "codemirror_mode": {
    "name": "ipython",
    "version": 3
   },
   "file_extension": ".py",
   "mimetype": "text/x-python",
   "name": "python",
   "nbconvert_exporter": "python",
   "pygments_lexer": "ipython3",
   "version": "3.7.0"
  }
 },
 "nbformat": 4,
 "nbformat_minor": 1
}
