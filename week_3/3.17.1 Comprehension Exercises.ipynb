{
 "cells": [
  {
   "cell_type": "markdown",
   "metadata": {},
   "source": [
    "Use a comprehension to make a list of the square numbers below 100 that give a remainder of 1 when divided by 3."
   ]
  },
  {
   "cell_type": "code",
   "execution_count": 1,
   "metadata": {},
   "outputs": [
    {
     "data": {
      "text/plain": [
       "[1,\n",
       " 4,\n",
       " 7,\n",
       " 10,\n",
       " 13,\n",
       " 16,\n",
       " 19,\n",
       " 22,\n",
       " 25,\n",
       " 28,\n",
       " 31,\n",
       " 34,\n",
       " 37,\n",
       " 40,\n",
       " 43,\n",
       " 46,\n",
       " 49,\n",
       " 52,\n",
       " 55,\n",
       " 58,\n",
       " 61,\n",
       " 64,\n",
       " 67,\n",
       " 70,\n",
       " 73,\n",
       " 76,\n",
       " 79,\n",
       " 82,\n",
       " 85,\n",
       " 88,\n",
       " 91,\n",
       " 94,\n",
       " 97]"
      ]
     },
     "execution_count": 1,
     "metadata": {},
     "output_type": "execute_result"
    }
   ],
   "source": [
    "[i for i in range(100) if i%3==1]"
   ]
  },
  {
   "cell_type": "markdown",
   "metadata": {},
   "source": [
    "A string is defined in the code snippet below.  Split it into individual words and use a comprehension to make a list of the first letters of each word in the snippet."
   ]
  },
  {
   "cell_type": "code",
   "execution_count": 2,
   "metadata": {},
   "outputs": [],
   "source": [
    "text = \"\"\"I live my life a quarter mile at a time. \n",
    "Nothing else matters: not the mortgage, not the store, not my team and all their bullshit. \n",
    "For those ten seconds or less, I’m free.\"\"\""
   ]
  },
  {
   "cell_type": "code",
   "execution_count": 4,
   "metadata": {},
   "outputs": [
    {
     "data": {
      "text/plain": [
       "['I',\n",
       " 'l',\n",
       " 'm',\n",
       " 'l',\n",
       " 'a',\n",
       " 'q',\n",
       " 'm',\n",
       " 'a',\n",
       " 'a',\n",
       " 't',\n",
       " '\\n',\n",
       " 'e',\n",
       " 'm',\n",
       " 'n',\n",
       " 't',\n",
       " 'm',\n",
       " 'n',\n",
       " 't',\n",
       " 's',\n",
       " 'n',\n",
       " 'm',\n",
       " 't',\n",
       " 'a',\n",
       " 'a',\n",
       " 't',\n",
       " 'b',\n",
       " '\\n',\n",
       " 't',\n",
       " 't',\n",
       " 's',\n",
       " 'o',\n",
       " 'l',\n",
       " 'I',\n",
       " 'f']"
      ]
     },
     "execution_count": 4,
     "metadata": {},
     "output_type": "execute_result"
    }
   ],
   "source": [
    "split_up=text.split(\" \")\n",
    "[word[0] for word in split_up]"
   ]
  },
  {
   "cell_type": "markdown",
   "metadata": {},
   "source": [
    "A Pythagorean triple is a set $(x,y,z)$, with positive integers $x \\leq y \\leq z$ such that $x^2 + y^2 = z^2$.  Use a comprehension to make a list of all Pythagorean triples with numbers below 25."
   ]
  },
  {
   "cell_type": "code",
   "execution_count": 27,
   "metadata": {},
   "outputs": [
    {
     "name": "stdout",
     "output_type": "stream",
     "text": [
      "Enter the value of n:25\n",
      "[(3, 4, 5), (5, 12, 13), (6, 8, 10), (7, 24, 25), (8, 15, 17), (9, 12, 15), (12, 16, 20), (15, 20, 25)]\n"
     ]
    }
   ],
   "source": [
    "#https://stackoverflow.com/questions/44351400/list-comprehension-for-pythagorean-triples\n",
    "n = int(input(\"Enter the value of n:\"))\n",
    "\n",
    "print([(a,b,c) for a in range(1,n+1) for b in range(a,n+1) for c in range(b,n+1) if a**2 + b**2 == c**2])"
   ]
  },
  {
   "cell_type": "markdown",
   "metadata": {},
   "source": [
    "Given a word, provided below, use a comprehension to make a list of all strings that can be formed by deleting exactly one character from the word."
   ]
  },
  {
   "cell_type": "code",
   "execution_count": 11,
   "metadata": {},
   "outputs": [
    {
     "data": {
      "text/plain": [
       "['elcomed',\n",
       " 'Wlcomed',\n",
       " 'Wecomed',\n",
       " 'Welomed',\n",
       " 'Welcmed',\n",
       " 'Welcoed',\n",
       " 'Welcomd',\n",
       " 'Welcome']"
      ]
     },
     "execution_count": 11,
     "metadata": {},
     "output_type": "execute_result"
    }
   ],
   "source": [
    "word = \"Welcomed\"\n",
    "[word[0:i]+word[i+1:] for i in range(len(word))]"
   ]
  },
  {
   "cell_type": "markdown",
   "metadata": {},
   "source": [
    "Given a word, provided below, use a comprehension to make a list of all strings that can be formed by replacing exactly one vowel in the word with a different vowel."
   ]
  },
  {
   "cell_type": "code",
   "execution_count": 26,
   "metadata": {},
   "outputs": [
    {
     "data": {
      "text/plain": [
       "['Baoted',\n",
       " 'Beoted',\n",
       " 'Bioted',\n",
       " 'Booted',\n",
       " 'Buoted',\n",
       " 'Boated',\n",
       " 'Boeted',\n",
       " 'Boited',\n",
       " 'Booted',\n",
       " 'Bouted',\n",
       " 'Bootad',\n",
       " 'Booted',\n",
       " 'Bootid',\n",
       " 'Bootod',\n",
       " 'Bootud']"
      ]
     },
     "execution_count": 26,
     "metadata": {},
     "output_type": "execute_result"
    }
   ],
   "source": [
    "word = \"Booted\"\n",
    "vowels=['a','e','i','o','u']\n",
    "[word[0:i]+v+word[i+1:] for i in range(len(word)) for v in vowels if (word[i] in vowels)]\n",
    "#for i in range(len(word)): \n",
    "#    if word[i] in ['a','e','i','o','u']: \n",
    "#        print(word[0:i]+'a'+word[i+1:])"
   ]
  },
  {
   "cell_type": "code",
   "execution_count": null,
   "metadata": {},
   "outputs": [],
   "source": []
  }
 ],
 "metadata": {
  "kernelspec": {
   "display_name": "Python 3",
   "language": "python",
   "name": "python3"
  },
  "language_info": {
   "codemirror_mode": {
    "name": "ipython",
    "version": 3
   },
   "file_extension": ".py",
   "mimetype": "text/x-python",
   "name": "python",
   "nbconvert_exporter": "python",
   "pygments_lexer": "ipython3",
   "version": "3.7.0"
  }
 },
 "nbformat": 4,
 "nbformat_minor": 1
}
