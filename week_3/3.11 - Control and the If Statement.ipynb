{
 "cells": [
  {
   "cell_type": "markdown",
   "metadata": {},
   "source": [
    "## Control\n",
    "\n",
    "Up to this point, we have written only linear programs, meaning that each statement executes exactly once in order. We might refer to this as programming in a script style. Many times, when we load and analyze a data set, we will use a linear program.\n",
    "\n",
    "On the other hand, there are many programming applications that require more advanced code structures. To implement most advanced algorithms, we must do things such as executing statements more than once and making choices about which statements to execute. This is a topic we call *flow control*.\n",
    "\n",
    "Think of *control* as the location in a program that is currently being executed. When we say \"control passes to the next statement,\" we mean that the Python interpreter moves to the next location in a program to execute the instruction there. In this session, we will see how to do more advanced things with control."
   ]
  },
  {
   "cell_type": "markdown",
   "metadata": {
    "collapsed": true
   },
   "source": [
    "## Conditionals\n",
    "\n",
    "The first control structure we will examine is the `if` statement. The `if` statement allows us to make choices about which statements we want to execute. Here is a simple example."
   ]
  },
  {
   "cell_type": "code",
   "execution_count": 2,
   "metadata": {},
   "outputs": [
    {
     "name": "stdout",
     "output_type": "stream",
     "text": [
      "Enter an integer: 5\n"
     ]
    }
   ],
   "source": [
    "x = int(input(\"Enter an integer: \"))\n",
    "if x%2 == 0:\n",
    "    print(\"Even\")"
   ]
  },
  {
   "cell_type": "markdown",
   "metadata": {},
   "source": [
    "Notice that the `if` keyword is followed by a conditional expression that evaluated to True or False, which is then followed by a colon.  The print statement is indented, which alerts us to the fact that it will only be executed if the `if` condition is True.  Try inputting different values, and note that the print statement only executes if the number you type is even.\n",
    "\n",
    "The `if` statement can be extended using the `else` keyword.  This combination allows us to choose between one set of statements and another."
   ]
  },
  {
   "cell_type": "code",
   "execution_count": 3,
   "metadata": {},
   "outputs": [
    {
     "name": "stdout",
     "output_type": "stream",
     "text": [
      "Enter an integer: 12\n",
      "Even\n"
     ]
    }
   ],
   "source": [
    "x = int(input(\"Enter an integer: \"))\n",
    "if x%2 == 0:\n",
    "    print(\"Even\")\n",
    "else:\n",
    "    print(\"Odd\")\n",
    "    print(\"Still in else suite\")"
   ]
  },
  {
   "cell_type": "markdown",
   "metadata": {},
   "source": [
    "Type in a few values and see how this program behaves.  Notice that when the `if` condition is true, there are two statements that are executed as a result.  This is known as a *block* of code or a *suite*.  \n",
    "\n",
    "Python knows that statements belong to the same suite when they are indented by the same amount.  Try removing the indention before the last print statement above, and see if you can predict how the program's behavior will change.\n",
    "\n",
    "This use of indentation to signify blocks of code is an attractive feature of Python. Many other languages use curly braces to surround blocks of code, but good programmers usually indent blocks anyway to make things more readable. Python takes something that programmers like doing and enforces it for flow control.\n",
    "\n",
    "<b>Warning:</b> It is important to use the exact same indention whenever you put code into blocks. Note that a tab can look like several spaces, but Python will assume these are different. The convention is to use four spaces every time you indent code. Avoid using tabs for indentation since this may confuse other programmers that use your code."
   ]
  },
  {
   "cell_type": "markdown",
   "metadata": {},
   "source": [
    "For more elaborate choices, we may want to nest `if` statements inside each other."
   ]
  },
  {
   "cell_type": "code",
   "execution_count": 4,
   "metadata": {},
   "outputs": [
    {
     "name": "stdout",
     "output_type": "stream",
     "text": [
      "Enter an integer: 35\n"
     ]
    }
   ],
   "source": [
    "x = int(input(\"Enter an integer: \"))\n",
    "if x%2 == 0:\n",
    "    print(\"Even\")\n",
    "    if x>10:\n",
    "        print(\"and bigger than 10\")\n",
    "    else:\n",
    "        print(\"but smaller than 10\")"
   ]
  },
  {
   "cell_type": "markdown",
   "metadata": {},
   "source": [
    "What would happen if you take away the indention for the inner if-else statement?"
   ]
  },
  {
   "cell_type": "markdown",
   "metadata": {},
   "source": [
    "Here's another example, in which nested `if` statements are used to select a letter grade."
   ]
  },
  {
   "cell_type": "code",
   "execution_count": 5,
   "metadata": {},
   "outputs": [
    {
     "name": "stdout",
     "output_type": "stream",
     "text": [
      "Enter your grade: 92\n",
      "You got an A!\n",
      "congratulations!\n"
     ]
    }
   ],
   "source": [
    "x = int(input(\"Enter your grade: \"))\n",
    "if x >= 90:\n",
    "    print(\"You got an A!\")\n",
    "    print(\"congratulations!\")\n",
    "else:\n",
    "    if x>=80:\n",
    "        print(\"you got a B!\")\n",
    "    else:\n",
    "        print(\"Too bad. Better luck next time.\")"
   ]
  },
  {
   "cell_type": "markdown",
   "metadata": {},
   "source": [
    "In this case, we can simplify our `if` statements by using the `elif` keyword, which stands for `else if`. The previous code can be rewritten as shown below."
   ]
  },
  {
   "cell_type": "code",
   "execution_count": 8,
   "metadata": {},
   "outputs": [
    {
     "name": "stdout",
     "output_type": "stream",
     "text": [
      "Enter your grade: 5\n",
      "Too bad. Better luck next time.\n"
     ]
    }
   ],
   "source": [
    "x = int(input(\"Enter your grade: \"))\n",
    "if x >= 90:\n",
    "    print(\"You got an A!\")\n",
    "    print(\"congratulations!\")\n",
    "elif x>=80:\n",
    "    print(\"you got a B!\")\n",
    "else:\n",
    "    print(\"Too bad. Better luck next time.\")"
   ]
  },
  {
   "cell_type": "markdown",
   "metadata": {},
   "source": [
    "An `if`clause can be followed by any number of `elif` keywords and can have up to one `else` clause at the end.  No more than one of the code suites gets executed."
   ]
  }
 ],
 "metadata": {
  "kernelspec": {
   "display_name": "Python 3",
   "language": "python",
   "name": "python3"
  },
  "language_info": {
   "codemirror_mode": {
    "name": "ipython",
    "version": 3
   },
   "file_extension": ".py",
   "mimetype": "text/x-python",
   "name": "python",
   "nbconvert_exporter": "python",
   "pygments_lexer": "ipython3",
   "version": "3.7.0"
  }
 },
 "nbformat": 4,
 "nbformat_minor": 1
}
