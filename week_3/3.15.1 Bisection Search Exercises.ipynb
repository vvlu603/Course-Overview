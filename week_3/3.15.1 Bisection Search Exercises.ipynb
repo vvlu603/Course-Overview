{
 "cells": [
  {
   "cell_type": "markdown",
   "metadata": {},
   "source": [
    "1. Try inputting 0.25 into the bisection search algorithm below and confirm that it doesn't work.  Then correct the algorithm so that it works for all positive numbers."
   ]
  },
  {
   "cell_type": "code",
   "execution_count": 3,
   "metadata": {},
   "outputs": [
    {
     "name": "stdout",
     "output_type": "stream",
     "text": [
      "enter a number:0.25\n",
      "low = 0.0 high = 1\n",
      "low = 0.0 high = 0.5\n",
      "low = 0.25 high = 0.5\n",
      "low = 0.375 high = 0.5\n",
      "low = 0.4375 high = 0.5\n",
      "low = 0.46875 high = 0.5\n",
      "low = 0.484375 high = 0.5\n",
      "low = 0.4921875 high = 0.5\n",
      "low = 0.49609375 high = 0.5\n",
      "low = 0.498046875 high = 0.5\n",
      "low = 0.4990234375 high = 0.5\n",
      "low = 0.49951171875 high = 0.5\n",
      "low = 0.499755859375 high = 0.5\n",
      "low = 0.4998779296875 high = 0.5\n",
      "low = 0.49993896484375 high = 0.5\n",
      "low = 0.499969482421875 high = 0.5\n",
      "number of guesses = 16\n",
      "0.49999237060546875 is close to square root of 0.25\n"
     ]
    }
   ],
   "source": [
    "## Bisection Search to Find a Square Root\n",
    "\n",
    "# https://stackoverflow.com/questions/45522593/issues-with-bisection-method-square-root-calculation\n",
    "\n",
    "x = float(input(\"enter a number:\"))\n",
    "epsilon = 0.00001\n",
    "num_guesses = 0\n",
    "low = 0.0\n",
    "if x<1: \n",
    "    high = 1\n",
    "else: \n",
    "    high = x\n",
    "ans = (high + low)/2.0\n",
    "while high-low >= 2 * epsilon:\n",
    "    print(\"low =\",low,\"high =\", high)\n",
    "    num_guesses += 1\n",
    "    if ans**2 < x:\n",
    "        low = ans\n",
    "    else:\n",
    "        high = ans\n",
    "    ans = (high + low)/2.0\n",
    "print('number of guesses =', num_guesses)\n",
    "print(ans, 'is close to square root of', x)"
   ]
  },
  {
   "cell_type": "markdown",
   "metadata": {},
   "source": [
    " 2. You run the bisection search algorithm to find the square root of x to a precision of epsilon.  Write down a formula for how many loop iterations it takes for the algorithm to complete.  Hint: first suppose that x has the special value $epsilon * 2^n$, where n is an integer."
   ]
  }
 ],
 "metadata": {
  "kernelspec": {
   "display_name": "Python 3",
   "language": "python",
   "name": "python3"
  },
  "language_info": {
   "codemirror_mode": {
    "name": "ipython",
    "version": 3
   },
   "file_extension": ".py",
   "mimetype": "text/x-python",
   "name": "python",
   "nbconvert_exporter": "python",
   "pygments_lexer": "ipython3",
   "version": "3.7.0"
  }
 },
 "nbformat": 4,
 "nbformat_minor": 1
}
