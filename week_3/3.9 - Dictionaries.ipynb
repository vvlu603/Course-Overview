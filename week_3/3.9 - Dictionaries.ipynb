{
 "cells": [
  {
   "cell_type": "markdown",
   "metadata": {},
   "source": [
    "# Dictionaries\n",
    "\n",
    "A dictionary is an important Python type that gives us a rather different way of organizing objects.  Let's say that we wanted to store a set of definitions for words.  We could create a python dictionary as follows."
   ]
  },
  {
   "cell_type": "code",
   "execution_count": 3,
   "metadata": {},
   "outputs": [
    {
     "name": "stdout",
     "output_type": "stream",
     "text": [
      "{'do': 'a deer', 're': 'a drop', 'me': 'a name'}\n"
     ]
    }
   ],
   "source": [
    "a = {'do': 'a deer', 're': 'a drop', 'me': 'a name'}\n",
    "print(a)"
   ]
  },
  {
   "cell_type": "markdown",
   "metadata": {},
   "source": [
    "You can see that the dictionary contains pairs.  First we have a set of objects we call keys.  These are `do`, `re`, and `me`.  For each key, the dictionary stores another object called a value.  The main function of a dictionary is to map keys to values.  \n",
    "\n",
    "A dictionary is an implementation of a *map* or a *key-value store*.\n",
    "\n",
    "Remember that a Python sequence also stores values.  But a dictionary can hold objects that do not have a natural ordering: when there is no obvious object to call number 0, or number 1, and so forth. Notice that when our example dictionary was printed back out, the order of the values was changed.   This is because dictionaries aren't suppose to worry about the order of values - they is no natural order.\n",
    "\n",
    "We can confirm this by creating our dictionary with the key value pairs in a different order.  The resulting dictionary is the same."
   ]
  },
  {
   "cell_type": "code",
   "execution_count": 5,
   "metadata": {},
   "outputs": [
    {
     "name": "stdout",
     "output_type": "stream",
     "text": [
      "True\n"
     ]
    }
   ],
   "source": [
    "b = {'re': 'a drop', 'me': 'a name', 'do': 'a deer'}\n",
    "print(a == b)"
   ]
  },
  {
   "cell_type": "markdown",
   "metadata": {},
   "source": [
    "Since a value doesn't have a position in a dictionary, we need another way to access it, and that way is with a key.  The key is what lets us get to a particular value in a dictionary.  We want to know what the definition of `me` is.  Here, `me` is the key, and its definition is the corresponding value.  We access it as follows."
   ]
  },
  {
   "cell_type": "code",
   "execution_count": 4,
   "metadata": {},
   "outputs": [
    {
     "data": {
      "text/plain": [
       "'a name'"
      ]
     },
     "execution_count": 4,
     "metadata": {},
     "output_type": "execute_result"
    }
   ],
   "source": [
    "a['me']"
   ]
  },
  {
   "cell_type": "markdown",
   "metadata": {},
   "source": [
    "Before we continue, there are other ways to create a dictionary.  We could use the dict constructor, which will try to intelligently convert the arguments we give it into a dictionary."
   ]
  },
  {
   "cell_type": "code",
   "execution_count": 7,
   "metadata": {},
   "outputs": [],
   "source": [
    "c = dict(do='a deer', re = 'a drop', me = 'a name')\n",
    "d = dict([('do', 'a deer'), ('re', 'a drop'), ('me', 'a name')])"
   ]
  },
  {
   "cell_type": "markdown",
   "metadata": {},
   "source": [
    "You will see that all of the dictionaries we created so far are equal, even though we created them in different ways."
   ]
  },
  {
   "cell_type": "code",
   "execution_count": 8,
   "metadata": {},
   "outputs": [
    {
     "data": {
      "text/plain": [
       "True"
      ]
     },
     "execution_count": 8,
     "metadata": {},
     "output_type": "execute_result"
    }
   ],
   "source": [
    "a == b == c == d"
   ]
  },
  {
   "cell_type": "markdown",
   "metadata": {},
   "source": [
    "Manipulating dictionaries is pretty straightforward. To insert or access a value, place its key inside square brackets.  This looks similar to the way we access objects in a list, except the key takes the place of an integer index.\n",
    "\n",
    "For a second example, we will create a dictionary to represent a Rolodex. The keys will be phone numbers and the values will be names. We will start by creating an empty dictionary, then inserting two values."
   ]
  },
  {
   "cell_type": "code",
   "execution_count": 5,
   "metadata": {},
   "outputs": [
    {
     "name": "stdout",
     "output_type": "stream",
     "text": [
      "{5563321: 'Mary', 8884433: 'John'}\n"
     ]
    }
   ],
   "source": [
    "rolodex = {}\n",
    "rolodex[5563321] = \"Mary\"\n",
    "rolodex[8884433] = \"John\"\n",
    "print(rolodex)"
   ]
  },
  {
   "cell_type": "markdown",
   "metadata": {},
   "source": [
    "Now when we receive a phone call and we want to see who it is, we just enter in the phone number in the same format."
   ]
  },
  {
   "cell_type": "code",
   "execution_count": 6,
   "metadata": {},
   "outputs": [
    {
     "name": "stdout",
     "output_type": "stream",
     "text": [
      "Mary\n"
     ]
    }
   ],
   "source": [
    "print(rolodex[5563321])"
   ]
  },
  {
   "cell_type": "markdown",
   "metadata": {},
   "source": [
    "What happens if we were to enter another number or if we tried to pull out a key that was not there?"
   ]
  },
  {
   "cell_type": "code",
   "execution_count": 7,
   "metadata": {},
   "outputs": [
    {
     "ename": "KeyError",
     "evalue": "3331212",
     "output_type": "error",
     "traceback": [
      "\u001b[0;31m---------------------------------------------------------------------------\u001b[0m",
      "\u001b[0;31mKeyError\u001b[0m                                  Traceback (most recent call last)",
      "\u001b[0;32m<ipython-input-7-afa933a2efdf>\u001b[0m in \u001b[0;36m<module>\u001b[0;34m()\u001b[0m\n\u001b[0;32m----> 1\u001b[0;31m \u001b[0mrolodex\u001b[0m\u001b[0;34m[\u001b[0m\u001b[0;36m3331212\u001b[0m\u001b[0;34m]\u001b[0m\u001b[0;34m\u001b[0m\u001b[0m\n\u001b[0m",
      "\u001b[0;31mKeyError\u001b[0m: 3331212"
     ]
    }
   ],
   "source": [
    "rolodex[3331212]"
   ]
  },
  {
   "cell_type": "markdown",
   "metadata": {},
   "source": [
    "We got a KeyError because that key does not exist. Obviously the keys are an important part of every dictionary; if you lose them, you could be in trouble.\n",
    "\n",
    "We can delete values in a dictionary, much as we deleted objects in a list, simply using the key in place of an integer index."
   ]
  },
  {
   "cell_type": "code",
   "execution_count": 8,
   "metadata": {},
   "outputs": [],
   "source": [
    "del rolodex[5563321]"
   ]
  },
  {
   "cell_type": "code",
   "execution_count": 9,
   "metadata": {},
   "outputs": [
    {
     "name": "stdout",
     "output_type": "stream",
     "text": [
      "{8884433: 'John'}\n"
     ]
    }
   ],
   "source": [
    "print(rolodex)"
   ]
  },
  {
   "cell_type": "markdown",
   "metadata": {},
   "source": [
    "We can also use the `pop` method that we learned with lists as well. It allows us to remove a certain key. If that key does not exist, then we can set a default value."
   ]
  },
  {
   "cell_type": "code",
   "execution_count": 10,
   "metadata": {},
   "outputs": [
    {
     "data": {
      "text/plain": [
       "'John'"
      ]
     },
     "execution_count": 10,
     "metadata": {},
     "output_type": "execute_result"
    }
   ],
   "source": [
    "rolodex.pop(8884433, \"Not in rolodex\")"
   ]
  },
  {
   "cell_type": "code",
   "execution_count": 11,
   "metadata": {},
   "outputs": [
    {
     "data": {
      "text/plain": [
       "'José'"
      ]
     },
     "execution_count": 11,
     "metadata": {},
     "output_type": "execute_result"
    }
   ],
   "source": [
    "rolodex.pop(2223456, \"Not in rolodex\")"
   ]
  },
  {
   "cell_type": "markdown",
   "metadata": {},
   "source": [
    "We can also get the number of keys in the dictionary using the `len` command."
   ]
  },
  {
   "cell_type": "code",
   "execution_count": 12,
   "metadata": {},
   "outputs": [
    {
     "data": {
      "text/plain": [
       "0"
      ]
     },
     "execution_count": 12,
     "metadata": {},
     "output_type": "execute_result"
    }
   ],
   "source": [
    "len(rolodex)"
   ]
  },
  {
   "cell_type": "markdown",
   "metadata": {},
   "source": [
    "With dictionaries the values can be basically any type. They can be lists, tuples, or other dictionaries. The rules for keys, however, are more restrictive. Keys must be immutable objects. That means that tuples can be dictionary keys, but lists cannot. This is because of the way dictionaries are implemented in Python.  \n",
    "\n",
    "Dictionaries use an underlying data structure called a hash table. As you will learn in your data structures course, the amazing thing about hash tables is that adding or finding a value takes roughly the same amount of time, no matter how many objects are in the table. But hash tables use a mathematical function called a *hash* to process each key, and the keys must be immutable for the hash to yield the same results over time."
   ]
  },
  {
   "cell_type": "markdown",
   "metadata": {},
   "source": [
    "Here is another example, in which we use a dictionary to translate from English to another language. We can use strings as keys because strings are immutable."
   ]
  },
  {
   "cell_type": "code",
   "execution_count": 9,
   "metadata": {},
   "outputs": [],
   "source": [
    "eng = {\"Hi\": [\"Hai\", \"Ohhai\"], \"Bye\": \"Bai\"}"
   ]
  },
  {
   "cell_type": "code",
   "execution_count": 10,
   "metadata": {},
   "outputs": [
    {
     "name": "stdout",
     "output_type": "stream",
     "text": [
      "{'Hi': ['Hai', 'Ohhai'], 'Bye': 'Bai'}\n"
     ]
    }
   ],
   "source": [
    "print(eng)"
   ]
  },
  {
   "cell_type": "code",
   "execution_count": 12,
   "metadata": {},
   "outputs": [],
   "source": [
    "eng['Bye'] = {\"Formal\":\"BuhBai\",\"Informal\":\"Bai\"}"
   ]
  },
  {
   "cell_type": "code",
   "execution_count": 13,
   "metadata": {},
   "outputs": [
    {
     "data": {
      "text/plain": [
       "{'Bye': {'Formal': 'BuhBai', 'Informal': 'Bai'}, 'Hi': ['Hai', 'Ohhai']}"
      ]
     },
     "execution_count": 13,
     "metadata": {},
     "output_type": "execute_result"
    }
   ],
   "source": [
    "eng"
   ]
  },
  {
   "cell_type": "markdown",
   "metadata": {},
   "source": [
    "In this example, we used a dictionary to store another dictionary.  \n",
    "\n",
    "We can use the `in` operator to see if a key is in the dictionary.  We may want to do this before we try retrieving the value."
   ]
  },
  {
   "cell_type": "code",
   "execution_count": 14,
   "metadata": {},
   "outputs": [
    {
     "data": {
      "text/plain": [
       "True"
      ]
     },
     "execution_count": 14,
     "metadata": {},
     "output_type": "execute_result"
    }
   ],
   "source": [
    "\"Hi\" in eng"
   ]
  },
  {
   "cell_type": "code",
   "execution_count": 16,
   "metadata": {},
   "outputs": [
    {
     "data": {
      "text/plain": [
       "True"
      ]
     },
     "execution_count": 16,
     "metadata": {},
     "output_type": "execute_result"
    }
   ],
   "source": [
    "\"Thank you\" not in eng"
   ]
  },
  {
   "cell_type": "markdown",
   "metadata": {},
   "source": [
    "Much like lists, dictionaries can be copied using the `copy` method. However, we remember that this creates a `shallow copy`, so we have to pay attention when we mutate objects in the dictionaries."
   ]
  },
  {
   "cell_type": "code",
   "execution_count": 17,
   "metadata": {},
   "outputs": [],
   "source": [
    "eng_copy = eng.copy()"
   ]
  },
  {
   "cell_type": "code",
   "execution_count": 18,
   "metadata": {},
   "outputs": [
    {
     "data": {
      "text/plain": [
       "{'Bye': {'Formal': 'BuhBai', 'Informal': 'Bai'}, 'Hi': ['Hai', 'Ohhai']}"
      ]
     },
     "execution_count": 18,
     "metadata": {},
     "output_type": "execute_result"
    }
   ],
   "source": [
    "eng_copy"
   ]
  },
  {
   "cell_type": "code",
   "execution_count": 19,
   "metadata": {},
   "outputs": [],
   "source": [
    "eng_copy['Bye'].clear()"
   ]
  },
  {
   "cell_type": "code",
   "execution_count": 20,
   "metadata": {},
   "outputs": [
    {
     "name": "stdout",
     "output_type": "stream",
     "text": [
      "{'Hi': ['Hai', 'Ohhai'], 'Bye': {}}\n"
     ]
    }
   ],
   "source": [
    "print(eng)"
   ]
  },
  {
   "cell_type": "markdown",
   "metadata": {},
   "source": [
    "The `clear` method removes all key-value pairs from a dictionary. In this case we have applied it to the dictionary object that is stored in `eng_copy`. This is the same object that is stored in `eng`, so `eng` shows an empty dictionary when we print it."
   ]
  },
  {
   "cell_type": "markdown",
   "metadata": {},
   "source": [
    "One of the most helpful dictionary methods is the `get` method.  This method attempts to retrieve a value based on a key, but it allows us to set a default value as well.  This means that if a key we want is not in the dictionary, we will get the default value back. Here we try to get a foreign language phrase back from our translation dictionary, but we include a helpful error message in case the phrase is not in the dictionary."
   ]
  },
  {
   "cell_type": "code",
   "execution_count": 21,
   "metadata": {},
   "outputs": [
    {
     "data": {
      "text/plain": [
       "'Phrase not in dictionary'"
      ]
     },
     "execution_count": 21,
     "metadata": {},
     "output_type": "execute_result"
    }
   ],
   "source": [
    "eng.get(\"How are you?\", \"Phrase not in dictionary\")"
   ]
  },
  {
   "cell_type": "markdown",
   "metadata": {},
   "source": [
    "At times, you may need to get all the keys and values in a dictionary. We have a variety of methods to help us out with this."
   ]
  },
  {
   "cell_type": "code",
   "execution_count": 22,
   "metadata": {},
   "outputs": [
    {
     "data": {
      "text/plain": [
       "dict_keys(['Hi', 'Bye'])"
      ]
     },
     "execution_count": 22,
     "metadata": {},
     "output_type": "execute_result"
    }
   ],
   "source": [
    "eng.keys()"
   ]
  },
  {
   "cell_type": "code",
   "execution_count": 23,
   "metadata": {},
   "outputs": [
    {
     "data": {
      "text/plain": [
       "dict_values([['Hai', 'Ohhai'], {}])"
      ]
     },
     "execution_count": 23,
     "metadata": {},
     "output_type": "execute_result"
    }
   ],
   "source": [
    "eng.values()"
   ]
  },
  {
   "cell_type": "markdown",
   "metadata": {},
   "source": [
    "If we want to see all the keys paired with all the values, we can use the `items()` method."
   ]
  },
  {
   "cell_type": "code",
   "execution_count": 24,
   "metadata": {},
   "outputs": [
    {
     "data": {
      "text/plain": [
       "dict_items([('Hi', ['Hai', 'Ohhai']), ('Bye', {})])"
      ]
     },
     "execution_count": 24,
     "metadata": {},
     "output_type": "execute_result"
    }
   ],
   "source": [
    "eng_copy.items()"
   ]
  },
  {
   "cell_type": "markdown",
   "metadata": {},
   "source": [
    "If we want to merge two dictionaries together, we could use the `update` method.  Note that this will overwrite any keys that are shared by the dictionaries."
   ]
  },
  {
   "cell_type": "code",
   "execution_count": 25,
   "metadata": {},
   "outputs": [],
   "source": [
    "eng_copy.update({\"Thank you\":\"Much Thx\"})"
   ]
  },
  {
   "cell_type": "code",
   "execution_count": 26,
   "metadata": {},
   "outputs": [
    {
     "data": {
      "text/plain": [
       "{'Bye': {}, 'Hi': ['Hai', 'Ohhai'], 'Thank you': 'Much Thx'}"
      ]
     },
     "execution_count": 26,
     "metadata": {},
     "output_type": "execute_result"
    }
   ],
   "source": [
    "eng_copy"
   ]
  },
  {
   "cell_type": "markdown",
   "metadata": {},
   "source": [
    "At this point, we have introduced the most important of dictionary methods. We have seen different ways to create a dictionary, to add values, and to retrieve values. Under the hood, the hash table that the Python dictionary is based on is a vastly important and fascinating data structure. You will learn more about it in your data structures course, and this will help you use dictionaries even more effectively."
   ]
  }
 ],
 "metadata": {
  "kernelspec": {
   "display_name": "Python 3",
   "language": "python",
   "name": "python3"
  },
  "language_info": {
   "codemirror_mode": {
    "name": "ipython",
    "version": 3
   },
   "file_extension": ".py",
   "mimetype": "text/x-python",
   "name": "python",
   "nbconvert_exporter": "python",
   "pygments_lexer": "ipython3",
   "version": "3.7.0"
  }
 },
 "nbformat": 4,
 "nbformat_minor": 1
}
